{
 "cells": [
  {
   "cell_type": "markdown",
   "metadata": {},
   "source": [
    "# Data Analysis with Python & Pandas\n",
    "... expanding your horizons beyond Excel"
   ]
  },
  {
   "cell_type": "code",
   "execution_count": 105,
   "metadata": {},
   "outputs": [],
   "source": [
    "# import dependencies and alias\n",
    "import pandas as pd # Pandas: Mar 12, 2020 Version: 1.0.2\n",
    "import numpy as np # Numpy: Jan 6, 2020 Version: 1.18.1"
   ]
  },
  {
   "cell_type": "code",
   "execution_count": 106,
   "metadata": {},
   "outputs": [],
   "source": [
    "# Documentation: https://pandas.pydata.org/docs/index.html# & https://pandas-docs.github.io/pandas-docs-travis/\n",
    "    # help()\n",
    "    # Shift + Tab Completion and docstring (documentation)\n",
    "    \n",
    "# dataframe = lib.method(data_variable, args)    \n",
    "df = pd.DataFrame()"
   ]
  },
  {
   "cell_type": "code",
   "execution_count": 107,
   "metadata": {},
   "outputs": [
    {
     "name": "stdout",
     "output_type": "stream",
     "text": [
      "Help on built-in function max in module builtins:\n",
      "\n",
      "max(...)\n",
      "    max(iterable, *[, default=obj, key=func]) -> value\n",
      "    max(arg1, arg2, *args, *[, key=func]) -> value\n",
      "    \n",
      "    With a single iterable argument, return its biggest item. The\n",
      "    default keyword-only argument specifies an object to return if\n",
      "    the provided iterable is empty.\n",
      "    With two or more arguments, return the largest argument.\n",
      "\n"
     ]
    }
   ],
   "source": [
    "help(max)"
   ]
  },
  {
   "cell_type": "markdown",
   "metadata": {},
   "source": [
    "### Why Pandas?\n",
    "\n",
    "- well suited for heterogenous, ordered/unordered data with low dimensionality (relational/labeled data)\n",
    "- major features: Series (1D), DataFrame (2D)\n",
    "- computationaly very fast vs. Python or Excel (uses NumPy), essential for big data\n",
    "- allows for super simple data manipulation & inspection\n",
    "\n",
    "More on NumPy and why it's awesome: https://towardsdatascience.com/how-fast-numpy-really-is-e9111df44347"
   ]
  },
  {
   "cell_type": "markdown",
   "metadata": {
    "slideshow": {
     "slide_type": "-"
    }
   },
   "source": [
    "### Data Structures\n",
    "\n",
    "- Pandas utilizes DataFrames (Excel Sheet), Series (column), and an Index\n",
    "- common data types: object (string or mixed), int64, float64, datetime64, Bool (more details later)\n",
    "    - more info on data types: https://pbpython.com/pandas_dtypes.html\n",
    "    - more info on date time types: https://towardsdatascience.com/basic-time-series-manipulation-with-pandas-4432afee64ea\n",
    "- data formats: python object, flat (text) file, database, or an API"
   ]
  },
  {
   "cell_type": "code",
   "execution_count": 139,
   "metadata": {},
   "outputs": [
    {
     "data": {
      "text/plain": [
       "[12, 'something', True]"
      ]
     },
     "execution_count": 139,
     "metadata": {},
     "output_type": "execute_result"
    }
   ],
   "source": [
    "# Let's start with a simple list, numpy array, variable, tuple, ... any python sequence\n",
    "\n",
    "s = [12, 'something', True]\n",
    "s"
   ]
  },
  {
   "cell_type": "markdown",
   "metadata": {},
   "source": [
    "#### Series"
   ]
  },
  {
   "cell_type": "code",
   "execution_count": 145,
   "metadata": {},
   "outputs": [
    {
     "data": {
      "text/plain": [
       "0           12\n",
       "1    something\n",
       "2         True\n",
       "dtype: object"
      ]
     },
     "execution_count": 145,
     "metadata": {},
     "output_type": "execute_result"
    }
   ],
   "source": [
    "# Now let's turn it into a Series, note that a Series now has an index and is an object now\n",
    "\n",
    "s_series = pd.Series(s)\n",
    "s_series"
   ]
  },
  {
   "cell_type": "code",
   "execution_count": 150,
   "metadata": {},
   "outputs": [
    {
     "data": {
      "text/plain": [
       "<PandasArray>\n",
       "[12, 'something', True]\n",
       "Length: 3, dtype: object"
      ]
     },
     "execution_count": 150,
     "metadata": {},
     "output_type": "execute_result"
    }
   ],
   "source": [
    "# you can access array data with the .array method from numpy or positionally\n",
    "\n",
    "s_series.array"
   ]
  },
  {
   "cell_type": "markdown",
   "metadata": {},
   "source": [
    "##### DataFrame"
   ]
  },
  {
   "cell_type": "code",
   "execution_count": 151,
   "metadata": {},
   "outputs": [
    {
     "data": {
      "text/html": [
       "<div>\n",
       "<style scoped>\n",
       "    .dataframe tbody tr th:only-of-type {\n",
       "        vertical-align: middle;\n",
       "    }\n",
       "\n",
       "    .dataframe tbody tr th {\n",
       "        vertical-align: top;\n",
       "    }\n",
       "\n",
       "    .dataframe thead th {\n",
       "        text-align: right;\n",
       "    }\n",
       "</style>\n",
       "<table border=\"1\" class=\"dataframe\">\n",
       "  <thead>\n",
       "    <tr style=\"text-align: right;\">\n",
       "      <th></th>\n",
       "      <th>A</th>\n",
       "      <th>B</th>\n",
       "      <th>C</th>\n",
       "    </tr>\n",
       "  </thead>\n",
       "  <tbody>\n",
       "    <tr>\n",
       "      <th>0</th>\n",
       "      <td>1</td>\n",
       "      <td>2</td>\n",
       "      <td>3</td>\n",
       "    </tr>\n",
       "    <tr>\n",
       "      <th>1</th>\n",
       "      <td>2</td>\n",
       "      <td>4</td>\n",
       "      <td>6</td>\n",
       "    </tr>\n",
       "    <tr>\n",
       "      <th>2</th>\n",
       "      <td>3</td>\n",
       "      <td>6</td>\n",
       "      <td>9</td>\n",
       "    </tr>\n",
       "  </tbody>\n",
       "</table>\n",
       "</div>"
      ],
      "text/plain": [
       "   A  B  C\n",
       "0  1  2  3\n",
       "1  2  4  6\n",
       "2  3  6  9"
      ]
     },
     "execution_count": 151,
     "metadata": {},
     "output_type": "execute_result"
    }
   ],
   "source": [
    "# this is what a DataFrame looks like, where you can think of each column as a Series\n",
    "\n",
    "# variable = pd.DataFrame(data)\n",
    "d = pd.DataFrame({\"A\":[1, 2, 3], \"B\":[2, 4, 6], \"C\":[3, 6, 9]}) # ignore this bit for now ...\n",
    "d"
   ]
  },
  {
   "cell_type": "markdown",
   "metadata": {},
   "source": [
    "#### Index, this is truely what makes Pandas special\n",
    "- Default positional index starting at 0 like python except ...\n",
    "- You can use anything as an index now (strings, dates, etc.), you can even have multiple indecies\n",
    "- The index is hashable, creates an extra dimension/realtionship like a key in a dictionary\n",
    "- Powerful way to organize/re-organize data in DataFrames: stacking, sorting, pivot, melt, reshape, etc.\n",
    "\n",
    "More on the Pandas Index: https://towardsdatascience.com/pandas-index-explained-b131beaf6f7b"
   ]
  },
  {
   "cell_type": "code",
   "execution_count": 152,
   "metadata": {},
   "outputs": [
    {
     "data": {
      "text/html": [
       "<div>\n",
       "<style scoped>\n",
       "    .dataframe tbody tr th:only-of-type {\n",
       "        vertical-align: middle;\n",
       "    }\n",
       "\n",
       "    .dataframe tbody tr th {\n",
       "        vertical-align: top;\n",
       "    }\n",
       "\n",
       "    .dataframe thead th {\n",
       "        text-align: right;\n",
       "    }\n",
       "</style>\n",
       "<table border=\"1\" class=\"dataframe\">\n",
       "  <thead>\n",
       "    <tr style=\"text-align: right;\">\n",
       "      <th></th>\n",
       "      <th>0</th>\n",
       "      <th>1</th>\n",
       "      <th>2</th>\n",
       "    </tr>\n",
       "  </thead>\n",
       "  <tbody>\n",
       "    <tr>\n",
       "      <th>A</th>\n",
       "      <td>1</td>\n",
       "      <td>2</td>\n",
       "      <td>3</td>\n",
       "    </tr>\n",
       "    <tr>\n",
       "      <th>B</th>\n",
       "      <td>2</td>\n",
       "      <td>4</td>\n",
       "      <td>6</td>\n",
       "    </tr>\n",
       "    <tr>\n",
       "      <th>C</th>\n",
       "      <td>3</td>\n",
       "      <td>6</td>\n",
       "      <td>9</td>\n",
       "    </tr>\n",
       "  </tbody>\n",
       "</table>\n",
       "</div>"
      ],
      "text/plain": [
       "   0  1  2\n",
       "A  1  2  3\n",
       "B  2  4  6\n",
       "C  3  6  9"
      ]
     },
     "execution_count": 152,
     "metadata": {},
     "output_type": "execute_result"
    }
   ],
   "source": [
    "# a simple .T will transpose a DataFrame and make the column headers the new index\n",
    "d.T"
   ]
  },
  {
   "cell_type": "markdown",
   "metadata": {},
   "source": [
    "#### Creating DataFrames\n",
    "... most likely, you aleady have a data set but let's start with creating an example DataFrame to highlight it's structure & functionality"
   ]
  },
  {
   "cell_type": "code",
   "execution_count": 153,
   "metadata": {},
   "outputs": [],
   "source": [
    "### Ignore this if you don't use JN ###\n",
    "\n",
    "# note about Jupyter Notebooks: you can manipulate cell input/output displays with custom HTML/CSS functions like the one below\n",
    "# credit: https://stackoverflow.com/questions/38783027/jupyter-notebook-display-two-pandas-tables-side-by-side\n",
    "\n",
    "# for displaying dataframes side-by-side in cell output\n",
    "from IPython.display import display_html\n",
    "def display_side_by_side(*args):\n",
    "    html_str=''\n",
    "    for df in args:\n",
    "        html_str+=df.to_html()\n",
    "    display_html(html_str.replace('table','table style=\"display:inline\"'), raw=True)"
   ]
  },
  {
   "cell_type": "code",
   "execution_count": 113,
   "metadata": {
    "tags": [
     "hide_input",
     "nbconvert"
    ]
   },
   "outputs": [
    {
     "data": {
      "text/html": [
       "<div>\n",
       "<style scoped>\n",
       "    .dataframe tbody tr th:only-of-type {\n",
       "        vertical-align: middle;\n",
       "    }\n",
       "\n",
       "    .dataframe tbody tr th {\n",
       "        vertical-align: top;\n",
       "    }\n",
       "\n",
       "    .dataframe thead th {\n",
       "        text-align: right;\n",
       "    }\n",
       "</style>\n",
       "<table border=\"1\" class=\"dataframe\">\n",
       "  <thead>\n",
       "    <tr style=\"text-align: right;\">\n",
       "      <th></th>\n",
       "      <th>ID</th>\n",
       "      <th>Name</th>\n",
       "      <th>DOB</th>\n",
       "      <th>Points</th>\n",
       "      <th>Member</th>\n",
       "    </tr>\n",
       "  </thead>\n",
       "  <tbody>\n",
       "    <tr>\n",
       "      <th>0</th>\n",
       "      <td>6386</td>\n",
       "      <td>Sam</td>\n",
       "      <td>03/17/1972</td>\n",
       "      <td>22.5</td>\n",
       "      <td>Y</td>\n",
       "    </tr>\n",
       "    <tr>\n",
       "      <th>1</th>\n",
       "      <td>2762</td>\n",
       "      <td>Jane</td>\n",
       "      <td>08/15/1992</td>\n",
       "      <td>35.7</td>\n",
       "      <td>N</td>\n",
       "    </tr>\n",
       "    <tr>\n",
       "      <th>2</th>\n",
       "      <td>3614</td>\n",
       "      <td>Bob</td>\n",
       "      <td>01/23/1983</td>\n",
       "      <td>58.0</td>\n",
       "      <td>Y</td>\n",
       "    </tr>\n",
       "  </tbody>\n",
       "</table>\n",
       "</div>"
      ],
      "text/plain": [
       "     ID  Name         DOB  Points Member\n",
       "0  6386   Sam  03/17/1972    22.5      Y\n",
       "1  2762  Jane  08/15/1992    35.7      N\n",
       "2  3614   Bob  01/23/1983    58.0      Y"
      ]
     },
     "execution_count": 113,
     "metadata": {},
     "output_type": "execute_result"
    }
   ],
   "source": [
    "# Example 1: Creating a DataFrame from a hashed (keyed) object\n",
    "    # Create a DataFrame called df_dict, column headers = \"Name\", \"Age\", etc. and \n",
    "    # the data for each column is in a Series [x, y, z]\n",
    "    # note: python dictionary = {\"col_1\": [x1, y1, z1], \"col_2\": [x2, y2, z2], ...}\n",
    "\n",
    "df_dict = pd.DataFrame({\"ID\": [6386, 2762, 3614],\n",
    "                   \"Name\": [\"Sam\", \"Jane\", \"Bob\"],\n",
    "                   \"DOB\": [\"03/17/1972\", \"08/15/1992\", \"01/23/1983\"],\n",
    "                   \"Points\": [22.5, 35.7, 58.0],\n",
    "                   \"Member\": ['Y', \"N\", 'Y']}) # note the mixed use of \"\" & '', be consistent\n",
    "\n",
    "# print the dataframe output, can also use print()\n",
    "df_dict "
   ]
  },
  {
   "cell_type": "code",
   "execution_count": 114,
   "metadata": {},
   "outputs": [
    {
     "data": {
      "text/html": [
       "<div>\n",
       "<style scoped>\n",
       "    .dataframe tbody tr th:only-of-type {\n",
       "        vertical-align: middle;\n",
       "    }\n",
       "\n",
       "    .dataframe tbody tr th {\n",
       "        vertical-align: top;\n",
       "    }\n",
       "\n",
       "    .dataframe thead th {\n",
       "        text-align: right;\n",
       "    }\n",
       "</style>\n",
       "<table border=\"1\" class=\"dataframe\">\n",
       "  <thead>\n",
       "    <tr style=\"text-align: right;\">\n",
       "      <th></th>\n",
       "      <th>ID</th>\n",
       "      <th>Name</th>\n",
       "      <th>DOB</th>\n",
       "      <th>Points</th>\n",
       "      <th>Member</th>\n",
       "    </tr>\n",
       "  </thead>\n",
       "  <tbody>\n",
       "    <tr>\n",
       "      <th>0</th>\n",
       "      <td>6386</td>\n",
       "      <td>Sam</td>\n",
       "      <td>03/17/1972</td>\n",
       "      <td>22.5</td>\n",
       "      <td>Y</td>\n",
       "    </tr>\n",
       "    <tr>\n",
       "      <th>1</th>\n",
       "      <td>2762</td>\n",
       "      <td>Jane</td>\n",
       "      <td>08/15/1992</td>\n",
       "      <td>35.7</td>\n",
       "      <td>N</td>\n",
       "    </tr>\n",
       "    <tr>\n",
       "      <th>2</th>\n",
       "      <td>6143</td>\n",
       "      <td>Bob</td>\n",
       "      <td>01/23/1983</td>\n",
       "      <td>58.0</td>\n",
       "      <td>Y</td>\n",
       "    </tr>\n",
       "  </tbody>\n",
       "</table>\n",
       "</div>"
      ],
      "text/plain": [
       "     ID  Name         DOB  Points Member\n",
       "0  6386   Sam  03/17/1972    22.5      Y\n",
       "1  2762  Jane  08/15/1992    35.7      N\n",
       "2  6143   Bob  01/23/1983    58.0      Y"
      ]
     },
     "execution_count": 114,
     "metadata": {},
     "output_type": "execute_result"
    }
   ],
   "source": [
    "# Example 2: Creating a DataFrame from a Series or Tuples\n",
    "    # create a variable with data formatted as tuples\n",
    "    # note: tuple notation - (values cannot change) & Series/list notation - [values can change]\n",
    "data = [(6386, \"Sam\", \"03/17/1972\", 22.5, 'Y'),\n",
    "        (2762,\"Jane\", \"08/15/1992\", 35.7, \"N\"),\n",
    "        (6143, \"Bob\", \"01/23/1983\", 58.0, 'Y')]\n",
    "\n",
    "# create the DataFrame, note the column headers are an argument this time\n",
    "df_tuple = pd.DataFrame(data, columns =[\"ID\", \"Name\", \"DOB\", \"Points\", \"Member\"])\n",
    "\n",
    "# print the dataframe output\n",
    "df_tuple"
   ]
  },
  {
   "cell_type": "code",
   "execution_count": 115,
   "metadata": {},
   "outputs": [
    {
     "data": {
      "text/html": [
       "<table style=\"display:inline\" border=\"1\" class=\"dataframe\">\n",
       "  <thead>\n",
       "    <tr style=\"text-align: right;\">\n",
       "      <th></th>\n",
       "      <th>ID</th>\n",
       "      <th>Name</th>\n",
       "      <th>DOB</th>\n",
       "      <th>Points</th>\n",
       "      <th>Member</th>\n",
       "    </tr>\n",
       "  </thead>\n",
       "  <tbody>\n",
       "    <tr>\n",
       "      <th>0</th>\n",
       "      <td>6386</td>\n",
       "      <td>Sam</td>\n",
       "      <td>03/17/1972</td>\n",
       "      <td>22.5</td>\n",
       "      <td>Y</td>\n",
       "    </tr>\n",
       "    <tr>\n",
       "      <th>1</th>\n",
       "      <td>2762</td>\n",
       "      <td>Jane</td>\n",
       "      <td>08/15/1992</td>\n",
       "      <td>35.7</td>\n",
       "      <td>N</td>\n",
       "    </tr>\n",
       "    <tr>\n",
       "      <th>2</th>\n",
       "      <td>3614</td>\n",
       "      <td>Bob</td>\n",
       "      <td>01/23/1983</td>\n",
       "      <td>58.0</td>\n",
       "      <td>Y</td>\n",
       "    </tr>\n",
       "  </tbody>\n",
       "</table style=\"display:inline\"><table style=\"display:inline\" border=\"1\" class=\"dataframe\">\n",
       "  <thead>\n",
       "    <tr style=\"text-align: right;\">\n",
       "      <th></th>\n",
       "      <th>ID</th>\n",
       "      <th>Name</th>\n",
       "      <th>DOB</th>\n",
       "      <th>Points</th>\n",
       "      <th>Member</th>\n",
       "    </tr>\n",
       "  </thead>\n",
       "  <tbody>\n",
       "    <tr>\n",
       "      <th>0</th>\n",
       "      <td>6386</td>\n",
       "      <td>Sam</td>\n",
       "      <td>03/17/1972</td>\n",
       "      <td>22.5</td>\n",
       "      <td>Y</td>\n",
       "    </tr>\n",
       "    <tr>\n",
       "      <th>1</th>\n",
       "      <td>2762</td>\n",
       "      <td>Jane</td>\n",
       "      <td>08/15/1992</td>\n",
       "      <td>35.7</td>\n",
       "      <td>N</td>\n",
       "    </tr>\n",
       "    <tr>\n",
       "      <th>2</th>\n",
       "      <td>6143</td>\n",
       "      <td>Bob</td>\n",
       "      <td>01/23/1983</td>\n",
       "      <td>58.0</td>\n",
       "      <td>Y</td>\n",
       "    </tr>\n",
       "  </tbody>\n",
       "</table style=\"display:inline\">"
      ]
     },
     "metadata": {},
     "output_type": "display_data"
    }
   ],
   "source": [
    "# now let's look at the two side-by-side using the function display_side_by_side\n",
    "    # note the resulting identical DataFrames are from structurally different data sets\n",
    "    # also note that we don't know anything about the data types yet\n",
    "    # let's make some assumptions as see how they compare: object (string or mixed), int64, float64, datetime64, Bool\n",
    "    \n",
    "display_side_by_side(df_dict, df_tuple)"
   ]
  },
  {
   "cell_type": "markdown",
   "metadata": {},
   "source": [
    "### Data Types\n",
    "- common data types: object, int64, float64, datetime64, Bool, timedelta[ns], categorical\n",
    "- objects can be strings or mixed types (numbers '1234' & strings)\n",
    "    - note object data types can contain more than one python/excel data type, eek\n",
    "    - may require further inspection for object data types\n",
    "- Pandas has 3 unique data types: datatime, timedelta and category\n",
    "    - More on Python vs. Pandas data types: https://pbpython.com/pandas_dtypes.html\n",
    "    - More on Pandas date data types: https://towardsdatascience.com/basic-time-series-manipulation-with-pandas-4432afee64ea"
   ]
  },
  {
   "cell_type": "code",
   "execution_count": 138,
   "metadata": {
    "tags": [
     "hide_input"
    ]
   },
   "outputs": [
    {
     "data": {
      "text/html": [
       "<table style=\"display:inline\" border=\"1\" class=\"dataframe\">\n",
       "  <thead>\n",
       "    <tr style=\"text-align: right;\">\n",
       "      <th></th>\n",
       "      <th>dict_dtype</th>\n",
       "    </tr>\n",
       "  </thead>\n",
       "  <tbody>\n",
       "    <tr>\n",
       "      <th>ID</th>\n",
       "      <td>int64</td>\n",
       "    </tr>\n",
       "    <tr>\n",
       "      <th>Name</th>\n",
       "      <td>object</td>\n",
       "    </tr>\n",
       "    <tr>\n",
       "      <th>DOB</th>\n",
       "      <td>object</td>\n",
       "    </tr>\n",
       "    <tr>\n",
       "      <th>Points</th>\n",
       "      <td>float64</td>\n",
       "    </tr>\n",
       "    <tr>\n",
       "      <th>Member</th>\n",
       "      <td>object</td>\n",
       "    </tr>\n",
       "  </tbody>\n",
       "</table style=\"display:inline\"><table style=\"display:inline\" border=\"1\" class=\"dataframe\">\n",
       "  <thead>\n",
       "    <tr style=\"text-align: right;\">\n",
       "      <th></th>\n",
       "      <th>tuple_dtype</th>\n",
       "    </tr>\n",
       "  </thead>\n",
       "  <tbody>\n",
       "    <tr>\n",
       "      <th>ID</th>\n",
       "      <td>int64</td>\n",
       "    </tr>\n",
       "    <tr>\n",
       "      <th>Name</th>\n",
       "      <td>object</td>\n",
       "    </tr>\n",
       "    <tr>\n",
       "      <th>DOB</th>\n",
       "      <td>object</td>\n",
       "    </tr>\n",
       "    <tr>\n",
       "      <th>Points</th>\n",
       "      <td>float64</td>\n",
       "    </tr>\n",
       "    <tr>\n",
       "      <th>Member</th>\n",
       "      <td>object</td>\n",
       "    </tr>\n",
       "  </tbody>\n",
       "</table style=\"display:inline\">"
      ]
     },
     "metadata": {},
     "output_type": "display_data"
    }
   ],
   "source": [
    "# using the dtypes method, we can compare the data types for each of the DataFrames we just created\n",
    "# maybe you were expecting to see someting like this:\n",
    "    # ID: int64\n",
    "    # Name: string --> remember Pandas doesn't have a data type \"string\"\n",
    "    # DOB: date --> Pandas has it's own data types, to utilize them with data created elsewhere, you will need to cast the data\n",
    "    # Points: float64\n",
    "    # Member: string --> note that values like this can be easily utilized by Boolean operations\n",
    "\n",
    "df_dtypes_dict = pd.DataFrame(df_dict.dtypes, columns=[\"dict_dtype\"])\n",
    "df_dtypes_tuple = pd.DataFrame(df_tuple.dtypes, columns=[\"tuple_dtype\"])\n",
    "\n",
    "display_side_by_side(df_dtypes_dict, df_dtypes_tuple)"
   ]
  },
  {
   "cell_type": "markdown",
   "metadata": {},
   "source": [
    "#### Casting Data Types (.astype)"
   ]
  },
  {
   "cell_type": "code",
   "execution_count": 135,
   "metadata": {},
   "outputs": [
    {
     "name": "stdout",
     "output_type": "stream",
     "text": [
      "df_dict ID original dtype: int64,\n",
      "df_dict ID cast dtype: int32\n"
     ]
    }
   ],
   "source": [
    "# changing or casting a data type is super simple too, just use the .astype method\n",
    "\n",
    "dict_ID_dtype = df_dict['ID'].dtypes # this is the dtype of the column ID\n",
    "### spaces in string column headers matter: [spaces ok] vs. \"spaces_not_ok\". not the same as a series\n",
    "\n",
    "dict_ID_astype = df_dict['ID'].astype('int32').dtypes # using the .astype method to cast ID column data type from int64 to int32\n",
    "\n",
    "print(f\"\"\"df_dict ID original dtype: {dict_ID_dtype},\n",
    "df_dict ID cast dtype: {dict_ID_astype}\"\"\")"
   ]
  },
  {
   "cell_type": "markdown",
   "metadata": {},
   "source": [
    "### Reading & Writing Data\n",
    "- Python Objects\n",
    "- Supported File Types\n",
    "- Databases\n",
    "- APIs"
   ]
  },
  {
   "cell_type": "code",
   "execution_count": null,
   "metadata": {},
   "outputs": [],
   "source": [
    "pd.read_"
   ]
  },
  {
   "cell_type": "markdown",
   "metadata": {},
   "source": [
    "### Basic Data Inspection\n",
    "- you can use [...] or dot notation to access columns within DataFrames --> df['A'] or df.A\n",
    "    - spaces in string column headers matter: [spaces ok] vs. \"spaces_not_ok\""
   ]
  },
  {
   "cell_type": "code",
   "execution_count": null,
   "metadata": {},
   "outputs": [],
   "source": [
    "\n",
    "\n",
    ".head()/.tail()\n",
    ".dtypes\n",
    ".describe() # note that for mixed type objects, it will only eval numerical data\n",
    ".shape\n",
    ".unique"
   ]
  },
  {
   "cell_type": "code",
   "execution_count": null,
   "metadata": {},
   "outputs": [],
   "source": [
    "### Selecting & Sorting Data\n",
    "Dataframe.[ ] ; This function also known as indexing operator\n",
    "Dataframe.loc[ ] : This function is used for labels.\n",
    "Dataframe.iloc[ ] : This function is used for positions or integer based\n",
    "Dataframe.ix[] : This function is used for both label and integer based\n",
    "\n",
    "- Changing the order of columns: df = df[['C', 'B', 'A']]\n",
    "    \n",
    "# Grab DataFrame rows where column has certain values\n",
    "valuelist = ['value1', 'value2', 'value3']\n",
    "df = df[df.column.isin(valuelist)]\n",
    "\n",
    "# Select rows containing certain values from pandas dataframe IN ANY COLUMN\n",
    "df[df.values == 'X'].dropna(how='all') # this one makes multiple copies of the rows show up if multiple examples occur in the row\n",
    "df[df.isin(['X'])].dropna(how='all') # BEST; this one works better if multiple occurences can in the same row \n",
    "\n"
   ]
  },
  {
   "cell_type": "code",
   "execution_count": null,
   "metadata": {},
   "outputs": [],
   "source": []
  },
  {
   "cell_type": "code",
   "execution_count": null,
   "metadata": {},
   "outputs": [],
   "source": [
    "### Adding and Removing Data\n",
    "# Remove / delete a row where index matches a string\n",
    "dfm = df.drop(\"Y12_data\")\n",
    "# Remove / delete rows where a condition or conditions are met\n",
    "df = df.drop(df[df.score < 50].index)\n",
    "# can be done in place\n",
    "df.drop(df[df.score < 50].index, inplace=True)\n",
    "# use booleans to enforce multiple conditions\n",
    "df = df.drop(df[(df.score < 50) & (df.score > 20)].index)"
   ]
  },
  {
   "cell_type": "code",
   "execution_count": null,
   "metadata": {},
   "outputs": [],
   "source": []
  },
  {
   "cell_type": "code",
   "execution_count": null,
   "metadata": {},
   "outputs": [],
   "source": [
    "### Basic Data Cleaning"
   ]
  },
  {
   "cell_type": "code",
   "execution_count": null,
   "metadata": {},
   "outputs": [],
   "source": []
  },
  {
   "cell_type": "code",
   "execution_count": 154,
   "metadata": {},
   "outputs": [],
   "source": [
    "### Basic Statistics"
   ]
  },
  {
   "cell_type": "code",
   "execution_count": null,
   "metadata": {},
   "outputs": [],
   "source": []
  },
  {
   "cell_type": "code",
   "execution_count": null,
   "metadata": {},
   "outputs": [],
   "source": [
    "### Lambda Functions"
   ]
  },
  {
   "cell_type": "code",
   "execution_count": null,
   "metadata": {},
   "outputs": [],
   "source": []
  },
  {
   "cell_type": "code",
   "execution_count": null,
   "metadata": {},
   "outputs": [],
   "source": [
    "### Visualizations (Matplotlib)"
   ]
  },
  {
   "cell_type": "markdown",
   "metadata": {},
   "source": [
    "#### More Pandas Stuff\n",
    "\n",
    "    -  https://gist.github.com/fomightez/ef57387b5d23106fabd4e02dab6819b4"
   ]
  },
  {
   "cell_type": "markdown",
   "metadata": {
    "tags": [
     "nbconvert"
    ]
   },
   "source": [
    "#### More Jupyter Notebook Stuff\n",
    "\n",
    "    - Shift + Enter = executes a cell and displays the output\n",
    "    - Ctrl + / = comments (#) or un-comments lines\n",
    "    - Shift + Tab for tab completion and documentation\n",
    "    - use ; to execute a line of code but not print an output\n",
    "    - type setting equations: https://nbviewer.jupyter.org/github/ipython/ipython/blob/3.x/examples/Notebook/Typesetting%20Equations.ipynb"
   ]
  },
  {
   "cell_type": "code",
   "execution_count": null,
   "metadata": {},
   "outputs": [],
   "source": []
  }
 ],
 "metadata": {
  "kernelspec": {
   "display_name": "DataViz",
   "language": "python",
   "name": "dataviz"
  },
  "language_info": {
   "codemirror_mode": {
    "name": "ipython",
    "version": 3
   },
   "file_extension": ".py",
   "mimetype": "text/x-python",
   "name": "python",
   "nbconvert_exporter": "python",
   "pygments_lexer": "ipython3",
   "version": "3.8.1"
  }
 },
 "nbformat": 4,
 "nbformat_minor": 4
}
