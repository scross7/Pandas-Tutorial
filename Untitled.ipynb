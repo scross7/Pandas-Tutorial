{
 "cells": [
  {
   "cell_type": "code",
   "execution_count": 2,
   "metadata": {},
   "outputs": [
    {
     "name": "stdout",
     "output_type": "stream",
     "text": [
      "Requirement already satisfied: jupyter_contrib_nbextensions in c:\\users\\scross\\appdata\\local\\continuum\\anaconda3\\envs\\dataviz\\lib\\site-packages (0.5.1)Note: you may need to restart the kernel to use updated packages.\n",
      "Requirement already satisfied: lxml in c:\\users\\scross\\appdata\\local\\continuum\\anaconda3\\envs\\dataviz\\lib\\site-packages (from jupyter_contrib_nbextensions) (4.5.0)\n",
      "Requirement already satisfied: jupyter-nbextensions-configurator>=0.4.0 in c:\\users\\scross\\appdata\\local\\continuum\\anaconda3\\envs\\dataviz\\lib\\site-packages (from jupyter_contrib_nbextensions) (0.4.1)\n",
      "Requirement already satisfied: notebook>=4.0 in c:\\users\\scross\\appdata\\local\\continuum\\anaconda3\\envs\\dataviz\\lib\\site-packages (from jupyter_contrib_nbextensions) (6.0.3)\n",
      "Requirement already satisfied: pyyaml in c:\\users\\scross\\appdata\\local\\continuum\\anaconda3\\envs\\dataviz\\lib\\site-packages (from jupyter_contrib_nbextensions) (5.3)\n",
      "Requirement already satisfied: tornado in c:\\users\\scross\\appdata\\local\\continuum\\anaconda3\\envs\\dataviz\\lib\\site-packages (from jupyter_contrib_nbextensions) (6.0.3)\n",
      "Requirement already satisfied: jupyter-contrib-core>=0.3.3 in c:\\users\\scross\\appdata\\local\\continuum\\anaconda3\\envs\\dataviz\\lib\\site-packages (from jupyter_contrib_nbextensions) (0.3.3)\n",
      "Requirement already satisfied: ipython-genutils in c:\\users\\scross\\appdata\\local\\continuum\\anaconda3\\envs\\dataviz\\lib\\site-packages (from jupyter_contrib_nbextensions) (0.2.0)\n",
      "Requirement already satisfied: nbconvert>=4.2 in c:\\users\\scross\\appdata\\local\\continuum\\anaconda3\\envs\\dataviz\\lib\\site-packages (from jupyter_contrib_nbextensions) (5.6.1)\n",
      "Requirement already satisfied: jupyter-highlight-selected-word>=0.1.1 in c:\\users\\scross\\appdata\\local\\continuum\\anaconda3\\envs\\dataviz\\lib\\site-packages (from jupyter_contrib_nbextensions) (0.2.0)\n",
      "Requirement already satisfied: jupyter-latex-envs>=1.3.8 in c:\\users\\scross\\appdata\\local\\continuum\\anaconda3\\envs\\dataviz\\lib\\site-packages (from jupyter_contrib_nbextensions) (1.4.6)\n",
      "Requirement already satisfied: jupyter-core in c:\\users\\scross\\appdata\\local\\continuum\\anaconda3\\envs\\dataviz\\lib\\site-packages (from jupyter_contrib_nbextensions) (4.6.1)\n",
      "Requirement already satisfied: traitlets>=4.1 in c:\\users\\scross\\appdata\\local\\continuum\\anaconda3\\envs\\dataviz\\lib\\site-packages (from jupyter_contrib_nbextensions) (4.3.3)\n",
      "Requirement already satisfied: pyzmq>=17 in c:\\users\\scross\\appdata\\local\\continuum\\anaconda3\\envs\\dataviz\\lib\\site-packages (from notebook>=4.0->jupyter_contrib_nbextensions) (18.1.1)\n",
      "Requirement already satisfied: ipykernel in c:\\users\\scross\\appdata\\local\\continuum\\anaconda3\\envs\\dataviz\\lib\\site-packages (from notebook>=4.0->jupyter_contrib_nbextensions) (5.1.4)\n",
      "Requirement already satisfied: Send2Trash in c:\\users\\scross\\appdata\\local\\continuum\\anaconda3\\envs\\dataviz\\lib\\site-packages (from notebook>=4.0->jupyter_contrib_nbextensions) (1.5.0)\n",
      "Requirement already satisfied: jupyter-client>=5.3.4 in c:\\users\\scross\\appdata\\local\\continuum\\anaconda3\\envs\\dataviz\\lib\\site-packages (from notebook>=4.0->jupyter_contrib_nbextensions) (5.3.4)\n",
      "Requirement already satisfied: prometheus-client in c:\\users\\scross\\appdata\\local\\continuum\\anaconda3\\envs\\dataviz\\lib\\site-packages (from notebook>=4.0->jupyter_contrib_nbextensions) (0.7.1)\n",
      "Requirement already satisfied: nbformat in c:\\users\\scross\\appdata\\local\\continuum\\anaconda3\\envs\\dataviz\\lib\\site-packages (from notebook>=4.0->jupyter_contrib_nbextensions) (5.0.4)\n",
      "Requirement already satisfied: terminado>=0.8.1 in c:\\users\\scross\\appdata\\local\\continuum\\anaconda3\\envs\\dataviz\\lib\\site-packages (from notebook>=4.0->jupyter_contrib_nbextensions) (0.8.3)\n",
      "Requirement already satisfied: jinja2 in c:\\users\\scross\\appdata\\local\\continuum\\anaconda3\\envs\\dataviz\\lib\\site-packages (from notebook>=4.0->jupyter_contrib_nbextensions) (2.11.1)\n",
      "Requirement already satisfied: setuptools in c:\\users\\scross\\appdata\\local\\continuum\\anaconda3\\envs\\dataviz\\lib\\site-packages (from jupyter-contrib-core>=0.3.3->jupyter_contrib_nbextensions) (46.0.0.post20200309)\n",
      "Requirement already satisfied: defusedxml in c:\\users\\scross\\appdata\\local\\continuum\\anaconda3\\envs\\dataviz\\lib\\site-packages (from nbconvert>=4.2->jupyter_contrib_nbextensions) (0.6.0)\n",
      "Requirement already satisfied: pygments in c:\\users\\scross\\appdata\\local\\continuum\\anaconda3\\envs\\dataviz\\lib\\site-packages (from nbconvert>=4.2->jupyter_contrib_nbextensions) (2.5.2)\n",
      "Requirement already satisfied: pandocfilters>=1.4.1 in c:\\users\\scross\\appdata\\local\\continuum\\anaconda3\\envs\\dataviz\\lib\\site-packages (from nbconvert>=4.2->jupyter_contrib_nbextensions) (1.4.2)\n",
      "Requirement already satisfied: mistune<2,>=0.8.1 in c:\\users\\scross\\appdata\\local\\continuum\\anaconda3\\envs\\dataviz\\lib\\site-packages (from nbconvert>=4.2->jupyter_contrib_nbextensions) (0.8.4)\n",
      "Requirement already satisfied: bleach in c:\\users\\scross\\appdata\\local\\continuum\\anaconda3\\envs\\dataviz\\lib\\site-packages (from nbconvert>=4.2->jupyter_contrib_nbextensions) (3.1.1)\n",
      "Requirement already satisfied: entrypoints>=0.2.2 in c:\\users\\scross\\appdata\\local\\continuum\\anaconda3\\envs\\dataviz\\lib\\site-packages (from nbconvert>=4.2->jupyter_contrib_nbextensions) (0.3)\n",
      "Requirement already satisfied: testpath in c:\\users\\scross\\appdata\\local\\continuum\\anaconda3\\envs\\dataviz\\lib\\site-packages (from nbconvert>=4.2->jupyter_contrib_nbextensions) (0.4.4)\n",
      "Requirement already satisfied: ipython in c:\\users\\scross\\appdata\\local\\continuum\\anaconda3\\envs\\dataviz\\lib\\site-packages (from jupyter-latex-envs>=1.3.8->jupyter_contrib_nbextensions) (7.13.0)\n",
      "Requirement already satisfied: pywin32>=1.0; sys_platform == \"win32\" in c:\\users\\scross\\appdata\\local\\continuum\\anaconda3\\envs\\dataviz\\lib\\site-packages (from jupyter-core->jupyter_contrib_nbextensions) (227)\n",
      "Requirement already satisfied: six in c:\\users\\scross\\appdata\\local\\continuum\\anaconda3\\envs\\dataviz\\lib\\site-packages (from traitlets>=4.1->jupyter_contrib_nbextensions) (1.14.0)\n",
      "Requirement already satisfied: decorator in c:\\users\\scross\\appdata\\local\\continuum\\anaconda3\\envs\\dataviz\\lib\\site-packages (from traitlets>=4.1->jupyter_contrib_nbextensions) (4.4.1)\n",
      "Requirement already satisfied: python-dateutil>=2.1 in c:\\users\\scross\\appdata\\local\\continuum\\anaconda3\\envs\\dataviz\\lib\\site-packages (from jupyter-client>=5.3.4->notebook>=4.0->jupyter_contrib_nbextensions) (2.8.1)\n",
      "Requirement already satisfied: jsonschema!=2.5.0,>=2.4 in c:\\users\\scross\\appdata\\local\\continuum\\anaconda3\\envs\\dataviz\\lib\\site-packages (from nbformat->notebook>=4.0->jupyter_contrib_nbextensions) (3.2.0)\n",
      "Requirement already satisfied: pywinpty>=0.5; os_name == \"nt\" in c:\\users\\scross\\appdata\\local\\continuum\\anaconda3\\envs\\dataviz\\lib\\site-packages (from terminado>=0.8.1->notebook>=4.0->jupyter_contrib_nbextensions) (0.5.7)\n",
      "Requirement already satisfied: MarkupSafe>=0.23 in c:\\users\\scross\\appdata\\local\\continuum\\anaconda3\\envs\\dataviz\\lib\\site-packages (from jinja2->notebook>=4.0->jupyter_contrib_nbextensions) (1.1.1)\n",
      "Requirement already satisfied: webencodings in c:\\users\\scross\\appdata\\local\\continuum\\anaconda3\\envs\\dataviz\\lib\\site-packages (from bleach->nbconvert>=4.2->jupyter_contrib_nbextensions) (0.5.1)\n",
      "Requirement already satisfied: pickleshare in c:\\users\\scross\\appdata\\local\\continuum\\anaconda3\\envs\\dataviz\\lib\\site-packages (from ipython->jupyter-latex-envs>=1.3.8->jupyter_contrib_nbextensions) (0.7.5)\n",
      "Requirement already satisfied: backcall in c:\\users\\scross\\appdata\\local\\continuum\\anaconda3\\envs\\dataviz\\lib\\site-packages (from ipython->jupyter-latex-envs>=1.3.8->jupyter_contrib_nbextensions) (0.1.0)\n",
      "Requirement already satisfied: prompt-toolkit!=3.0.0,!=3.0.1,<3.1.0,>=2.0.0 in c:\\users\\scross\\appdata\\local\\continuum\\anaconda3\\envs\\dataviz\\lib\\site-packages (from ipython->jupyter-latex-envs>=1.3.8->jupyter_contrib_nbextensions) (3.0.3)\n",
      "Requirement already satisfied: colorama; sys_platform == \"win32\" in c:\\users\\scross\\appdata\\local\\continuum\\anaconda3\\envs\\dataviz\\lib\\site-packages (from ipython->jupyter-latex-envs>=1.3.8->jupyter_contrib_nbextensions) (0.4.3)\n",
      "Requirement already satisfied: jedi>=0.10 in c:\\users\\scross\\appdata\\local\\continuum\\anaconda3\\envs\\dataviz\\lib\\site-packages (from ipython->jupyter-latex-envs>=1.3.8->jupyter_contrib_nbextensions) (0.16.0)\n",
      "Requirement already satisfied: attrs>=17.4.0 in c:\\users\\scross\\appdata\\local\\continuum\\anaconda3\\envs\\dataviz\\lib\\site-packages (from jsonschema!=2.5.0,>=2.4->nbformat->notebook>=4.0->jupyter_contrib_nbextensions) (19.3.0)\n",
      "Requirement already satisfied: pyrsistent>=0.14.0 in c:\\users\\scross\\appdata\\local\\continuum\\anaconda3\\envs\\dataviz\\lib\\site-packages (from jsonschema!=2.5.0,>=2.4->nbformat->notebook>=4.0->jupyter_contrib_nbextensions) (0.15.7)\n",
      "Requirement already satisfied: wcwidth in c:\\users\\scross\\appdata\\local\\continuum\\anaconda3\\envs\\dataviz\\lib\\site-packages (from prompt-toolkit!=3.0.0,!=3.0.1,<3.1.0,>=2.0.0->ipython->jupyter-latex-envs>=1.3.8->jupyter_contrib_nbextensions) (0.1.8)\n",
      "Requirement already satisfied: parso>=0.5.2 in c:\\users\\scross\\appdata\\local\\continuum\\anaconda3\\envs\\dataviz\\lib\\site-packages (from jedi>=0.10->ipython->jupyter-latex-envs>=1.3.8->jupyter_contrib_nbextensions) (0.6.1)\n",
      "\n"
     ]
    }
   ],
   "source": [
    "pip install jupyter_contrib_nbextensions"
   ]
  },
  {
   "cell_type": "code",
   "execution_count": 3,
   "metadata": {},
   "outputs": [
    {
     "ename": "SyntaxError",
     "evalue": "invalid syntax (<ipython-input-3-1c0e089b301b>, line 1)",
     "output_type": "error",
     "traceback": [
      "\u001b[1;36m  File \u001b[1;32m\"<ipython-input-3-1c0e089b301b>\"\u001b[1;36m, line \u001b[1;32m1\u001b[0m\n\u001b[1;33m    jupyter contrib nbextension install --user\u001b[0m\n\u001b[1;37m            ^\u001b[0m\n\u001b[1;31mSyntaxError\u001b[0m\u001b[1;31m:\u001b[0m invalid syntax\n"
     ]
    }
   ],
   "source": [
    "jupyter contrib nbextension install --user"
   ]
  },
  {
   "cell_type": "code",
   "execution_count": 4,
   "metadata": {},
   "outputs": [
    {
     "name": "stdout",
     "output_type": "stream",
     "text": [
      "Requirement already satisfied: jupyter_nbextensions_configurator in c:\\users\\scross\\appdata\\local\\continuum\\anaconda3\\envs\\dataviz\\lib\\site-packages (0.4.1)\n",
      "Requirement already satisfied: jupyter-core in c:\\users\\scross\\appdata\\local\\continuum\\anaconda3\\envs\\dataviz\\lib\\site-packages (from jupyter_nbextensions_configurator) (4.6.1)\n",
      "Requirement already satisfied: tornado in c:\\users\\scross\\appdata\\local\\continuum\\anaconda3\\envs\\dataviz\\lib\\site-packages (from jupyter_nbextensions_configurator) (6.0.3)\n",
      "Requirement already satisfied: pyyaml in c:\\users\\scross\\appdata\\local\\continuum\\anaconda3\\envs\\dataviz\\lib\\site-packages (from jupyter_nbextensions_configurator) (5.3)\n",
      "Requirement already satisfied: jupyter-contrib-core>=0.3.3 in c:\\users\\scross\\appdata\\local\\continuum\\anaconda3\\envs\\dataviz\\lib\\site-packages (from jupyter_nbextensions_configurator) (0.3.3)\n",
      "Requirement already satisfied: traitlets in c:\\users\\scross\\appdata\\local\\continuum\\anaconda3\\envs\\dataviz\\lib\\site-packages (from jupyter_nbextensions_configurator) (4.3.3)\n",
      "Note: you may need to restart the kernel to use updated packages.Requirement already satisfied: notebook>=4.0 in c:\\users\\scross\\appdata\\local\\continuum\\anaconda3\\envs\\dataviz\\lib\\site-packages (from jupyter_nbextensions_configurator) (6.0.3)\n",
      "Requirement already satisfied: pywin32>=1.0; sys_platform == \"win32\" in c:\\users\\scross\\appdata\\local\\continuum\\anaconda3\\envs\\dataviz\\lib\\site-packages (from jupyter-core->jupyter_nbextensions_configurator) (227)\n",
      "Requirement already satisfied: setuptools in c:\\users\\scross\\appdata\\local\\continuum\\anaconda3\\envs\\dataviz\\lib\\site-packages (from jupyter-contrib-core>=0.3.3->jupyter_nbextensions_configurator) (46.0.0.post20200309)\n",
      "Requirement already satisfied: decorator in c:\\users\\scross\\appdata\\local\\continuum\\anaconda3\\envs\\dataviz\\lib\\site-packages (from traitlets->jupyter_nbextensions_configurator) (4.4.1)\n",
      "Requirement already satisfied: six in c:\\users\\scross\\appdata\\local\\continuum\\anaconda3\\envs\\dataviz\\lib\\site-packages (from traitlets->jupyter_nbextensions_configurator) (1.14.0)\n",
      "Requirement already satisfied: ipython-genutils in c:\\users\\scross\\appdata\\local\\continuum\\anaconda3\\envs\\dataviz\\lib\\site-packages (from traitlets->jupyter_nbextensions_configurator) (0.2.0)\n",
      "Requirement already satisfied: pyzmq>=17 in c:\\users\\scross\\appdata\\local\\continuum\\anaconda3\\envs\\dataviz\\lib\\site-packages (from notebook>=4.0->jupyter_nbextensions_configurator) (18.1.1)\n",
      "\n",
      "Requirement already satisfied: Send2Trash in c:\\users\\scross\\appdata\\local\\continuum\\anaconda3\\envs\\dataviz\\lib\\site-packages (from notebook>=4.0->jupyter_nbextensions_configurator) (1.5.0)\n",
      "Requirement already satisfied: jinja2 in c:\\users\\scross\\appdata\\local\\continuum\\anaconda3\\envs\\dataviz\\lib\\site-packages (from notebook>=4.0->jupyter_nbextensions_configurator) (2.11.1)\n",
      "Requirement already satisfied: nbconvert in c:\\users\\scross\\appdata\\local\\continuum\\anaconda3\\envs\\dataviz\\lib\\site-packages (from notebook>=4.0->jupyter_nbextensions_configurator) (5.6.1)\n",
      "Requirement already satisfied: prometheus-client in c:\\users\\scross\\appdata\\local\\continuum\\anaconda3\\envs\\dataviz\\lib\\site-packages (from notebook>=4.0->jupyter_nbextensions_configurator) (0.7.1)\n",
      "Requirement already satisfied: nbformat in c:\\users\\scross\\appdata\\local\\continuum\\anaconda3\\envs\\dataviz\\lib\\site-packages (from notebook>=4.0->jupyter_nbextensions_configurator) (5.0.4)\n",
      "Requirement already satisfied: ipykernel in c:\\users\\scross\\appdata\\local\\continuum\\anaconda3\\envs\\dataviz\\lib\\site-packages (from notebook>=4.0->jupyter_nbextensions_configurator) (5.1.4)\n",
      "Requirement already satisfied: jupyter-client>=5.3.4 in c:\\users\\scross\\appdata\\local\\continuum\\anaconda3\\envs\\dataviz\\lib\\site-packages (from notebook>=4.0->jupyter_nbextensions_configurator) (5.3.4)\n",
      "Requirement already satisfied: terminado>=0.8.1 in c:\\users\\scross\\appdata\\local\\continuum\\anaconda3\\envs\\dataviz\\lib\\site-packages (from notebook>=4.0->jupyter_nbextensions_configurator) (0.8.3)\n",
      "Requirement already satisfied: MarkupSafe>=0.23 in c:\\users\\scross\\appdata\\local\\continuum\\anaconda3\\envs\\dataviz\\lib\\site-packages (from jinja2->notebook>=4.0->jupyter_nbextensions_configurator) (1.1.1)\n",
      "Requirement already satisfied: pygments in c:\\users\\scross\\appdata\\local\\continuum\\anaconda3\\envs\\dataviz\\lib\\site-packages (from nbconvert->notebook>=4.0->jupyter_nbextensions_configurator) (2.5.2)\n",
      "Requirement already satisfied: defusedxml in c:\\users\\scross\\appdata\\local\\continuum\\anaconda3\\envs\\dataviz\\lib\\site-packages (from nbconvert->notebook>=4.0->jupyter_nbextensions_configurator) (0.6.0)\n",
      "Requirement already satisfied: mistune<2,>=0.8.1 in c:\\users\\scross\\appdata\\local\\continuum\\anaconda3\\envs\\dataviz\\lib\\site-packages (from nbconvert->notebook>=4.0->jupyter_nbextensions_configurator) (0.8.4)\n",
      "Requirement already satisfied: pandocfilters>=1.4.1 in c:\\users\\scross\\appdata\\local\\continuum\\anaconda3\\envs\\dataviz\\lib\\site-packages (from nbconvert->notebook>=4.0->jupyter_nbextensions_configurator) (1.4.2)\n",
      "Requirement already satisfied: bleach in c:\\users\\scross\\appdata\\local\\continuum\\anaconda3\\envs\\dataviz\\lib\\site-packages (from nbconvert->notebook>=4.0->jupyter_nbextensions_configurator) (3.1.1)\n",
      "Requirement already satisfied: testpath in c:\\users\\scross\\appdata\\local\\continuum\\anaconda3\\envs\\dataviz\\lib\\site-packages (from nbconvert->notebook>=4.0->jupyter_nbextensions_configurator) (0.4.4)\n",
      "Requirement already satisfied: entrypoints>=0.2.2 in c:\\users\\scross\\appdata\\local\\continuum\\anaconda3\\envs\\dataviz\\lib\\site-packages (from nbconvert->notebook>=4.0->jupyter_nbextensions_configurator) (0.3)\n",
      "Requirement already satisfied: jsonschema!=2.5.0,>=2.4 in c:\\users\\scross\\appdata\\local\\continuum\\anaconda3\\envs\\dataviz\\lib\\site-packages (from nbformat->notebook>=4.0->jupyter_nbextensions_configurator) (3.2.0)\n",
      "Requirement already satisfied: ipython>=5.0.0 in c:\\users\\scross\\appdata\\local\\continuum\\anaconda3\\envs\\dataviz\\lib\\site-packages (from ipykernel->notebook>=4.0->jupyter_nbextensions_configurator) (7.13.0)\n",
      "Requirement already satisfied: python-dateutil>=2.1 in c:\\users\\scross\\appdata\\local\\continuum\\anaconda3\\envs\\dataviz\\lib\\site-packages (from jupyter-client>=5.3.4->notebook>=4.0->jupyter_nbextensions_configurator) (2.8.1)\n",
      "Requirement already satisfied: pywinpty>=0.5; os_name == \"nt\" in c:\\users\\scross\\appdata\\local\\continuum\\anaconda3\\envs\\dataviz\\lib\\site-packages (from terminado>=0.8.1->notebook>=4.0->jupyter_nbextensions_configurator) (0.5.7)\n",
      "Requirement already satisfied: webencodings in c:\\users\\scross\\appdata\\local\\continuum\\anaconda3\\envs\\dataviz\\lib\\site-packages (from bleach->nbconvert->notebook>=4.0->jupyter_nbextensions_configurator) (0.5.1)\n",
      "Requirement already satisfied: attrs>=17.4.0 in c:\\users\\scross\\appdata\\local\\continuum\\anaconda3\\envs\\dataviz\\lib\\site-packages (from jsonschema!=2.5.0,>=2.4->nbformat->notebook>=4.0->jupyter_nbextensions_configurator) (19.3.0)\n",
      "Requirement already satisfied: pyrsistent>=0.14.0 in c:\\users\\scross\\appdata\\local\\continuum\\anaconda3\\envs\\dataviz\\lib\\site-packages (from jsonschema!=2.5.0,>=2.4->nbformat->notebook>=4.0->jupyter_nbextensions_configurator) (0.15.7)\n",
      "Requirement already satisfied: prompt-toolkit!=3.0.0,!=3.0.1,<3.1.0,>=2.0.0 in c:\\users\\scross\\appdata\\local\\continuum\\anaconda3\\envs\\dataviz\\lib\\site-packages (from ipython>=5.0.0->ipykernel->notebook>=4.0->jupyter_nbextensions_configurator) (3.0.3)\n",
      "Requirement already satisfied: jedi>=0.10 in c:\\users\\scross\\appdata\\local\\continuum\\anaconda3\\envs\\dataviz\\lib\\site-packages (from ipython>=5.0.0->ipykernel->notebook>=4.0->jupyter_nbextensions_configurator) (0.16.0)\n",
      "Requirement already satisfied: colorama; sys_platform == \"win32\" in c:\\users\\scross\\appdata\\local\\continuum\\anaconda3\\envs\\dataviz\\lib\\site-packages (from ipython>=5.0.0->ipykernel->notebook>=4.0->jupyter_nbextensions_configurator) (0.4.3)\n",
      "Requirement already satisfied: backcall in c:\\users\\scross\\appdata\\local\\continuum\\anaconda3\\envs\\dataviz\\lib\\site-packages (from ipython>=5.0.0->ipykernel->notebook>=4.0->jupyter_nbextensions_configurator) (0.1.0)\n",
      "Requirement already satisfied: pickleshare in c:\\users\\scross\\appdata\\local\\continuum\\anaconda3\\envs\\dataviz\\lib\\site-packages (from ipython>=5.0.0->ipykernel->notebook>=4.0->jupyter_nbextensions_configurator) (0.7.5)\n",
      "Requirement already satisfied: wcwidth in c:\\users\\scross\\appdata\\local\\continuum\\anaconda3\\envs\\dataviz\\lib\\site-packages (from prompt-toolkit!=3.0.0,!=3.0.1,<3.1.0,>=2.0.0->ipython>=5.0.0->ipykernel->notebook>=4.0->jupyter_nbextensions_configurator) (0.1.8)\n",
      "Requirement already satisfied: parso>=0.5.2 in c:\\users\\scross\\appdata\\local\\continuum\\anaconda3\\envs\\dataviz\\lib\\site-packages (from jedi>=0.10->ipython>=5.0.0->ipykernel->notebook>=4.0->jupyter_nbextensions_configurator) (0.6.1)\n"
     ]
    }
   ],
   "source": [
    "pip install jupyter_nbextensions_configurator"
   ]
  },
  {
   "cell_type": "code",
   "execution_count": null,
   "metadata": {},
   "outputs": [],
   "source": [
    "jupyter nbextensions_configurator enable --user"
   ]
  }
 ],
 "metadata": {
  "kernelspec": {
   "display_name": "DataViz",
   "language": "python",
   "name": "dataviz"
  }
 },
 "nbformat": 4,
 "nbformat_minor": 4
}
